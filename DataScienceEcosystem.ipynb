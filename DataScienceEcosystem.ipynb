{
 "cells": [
  {
   "cell_type": "markdown",
   "id": "511b170d-8eb5-4f08-b047-4a28f417f9a2",
   "metadata": {},
   "source": [
    "# Data Science Tools and Ecosystem"
   ]
  },
  {
   "cell_type": "markdown",
   "id": "5ba2b781-2225-4ab4-9ad3-b66c789348f9",
   "metadata": {},
   "source": [
    "## Data Science Tools and Ecosystem"
   ]
  },
  {
   "cell_type": "markdown",
   "id": "1a91fce8-71da-4bac-838c-97a50c99657d",
   "metadata": {},
   "source": [
    "### Some of the popular languages that Data Scientists use are:"
   ]
  },
  {
   "cell_type": "markdown",
   "id": "69dad5f9-613d-4ea2-8729-46c4ede837d2",
   "metadata": {},
   "source": [
    "#### Python, R, SQL"
   ]
  },
  {
   "cell_type": "markdown",
   "id": "f6eea232-d53e-45a2-a879-a781383ba215",
   "metadata": {},
   "source": [
    "### Some of the commonly used libraries used by Data Scientists include:"
   ]
  },
  {
   "cell_type": "markdown",
   "id": "ab74eead-d5f3-465b-96d5-2dae75bba4a4",
   "metadata": {},
   "source": [
    "#### Pandas, Matplotlib, seaborn, sckitilearn..."
   ]
  },
  {
   "cell_type": "markdown",
   "id": "e5fbc9a8-059c-4ff8-992b-a8770e1e46e0",
   "metadata": {},
   "source": [
    "|Data Science Tools|\n",
    "|------|\n",
    "|Pandas|\n",
    "|Weka|\n",
    "|Scrapy|"
   ]
  },
  {
   "cell_type": "markdown",
   "id": "fa13a9fa-c18e-48e7-89bf-a71daeeae2a3",
   "metadata": {},
   "source": [
    "### Below are a few examples of evaluating arithmetic expressions in Python"
   ]
  },
  {
   "cell_type": "code",
   "execution_count": 3,
   "id": "6cf3d8a9-0aee-4551-9c00-5fd786819918",
   "metadata": {},
   "outputs": [
    {
     "data": {
      "text/plain": [
       "17"
      ]
     },
     "execution_count": 3,
     "metadata": {},
     "output_type": "execute_result"
    }
   ],
   "source": [
    "# This a simple arithmetic expression to mutiply then add integers\n",
    "(3*4)+5"
   ]
  },
  {
   "cell_type": "code",
   "execution_count": 4,
   "id": "cc1498ec-397f-4650-a0c5-562821130ee0",
   "metadata": {},
   "outputs": [],
   "source": [
    "#This will convert 200 minutes to hours by diving by 60\n",
    "hours = 200 / 60\n"
   ]
  },
  {
   "cell_type": "markdown",
   "id": "a468683b-b590-4786-9a17-bc82ff5ff2d4",
   "metadata": {},
   "source": [
    "# Author : Mohamed Sami BENZAIMIA"
   ]
  },
  {
   "cell_type": "code",
   "execution_count": null,
   "id": "e2c0599d-c839-43eb-a6c0-05339ac90eb2",
   "metadata": {},
   "outputs": [],
   "source": []
  }
 ],
 "metadata": {
  "kernelspec": {
   "display_name": "Python 3 (ipykernel)",
   "language": "python",
   "name": "python3"
  },
  "language_info": {
   "codemirror_mode": {
    "name": "ipython",
    "version": 3
   },
   "file_extension": ".py",
   "mimetype": "text/x-python",
   "name": "python",
   "nbconvert_exporter": "python",
   "pygments_lexer": "ipython3",
   "version": "3.11.5"
  }
 },
 "nbformat": 4,
 "nbformat_minor": 5
}
